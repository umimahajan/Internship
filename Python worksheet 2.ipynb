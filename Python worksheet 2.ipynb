{
 "cells": [
  {
   "cell_type": "markdown",
   "metadata": {},
   "source": [
    "# Python codes"
   ]
  },
  {
   "cell_type": "code",
   "execution_count": 18,
   "metadata": {},
   "outputs": [],
   "source": [
    "#11. Write a python program to find the factorial of a number."
   ]
  },
  {
   "cell_type": "code",
   "execution_count": 19,
   "metadata": {},
   "outputs": [
    {
     "name": "stdout",
     "output_type": "stream",
     "text": [
      "Enter value :4\n",
      "the factorial of 4 is 24\n"
     ]
    }
   ],
   "source": [
    "value = int(input(\"Enter value :\"))\n",
    "\n",
    "factorial = 1\n",
    "\n",
    "if value<0:\n",
    "    print(\"negitive value - Factorial does not exist\")\n",
    "\n",
    "elif value == 0:\n",
    "    print(\"factorial of 0 is 1\")\n",
    "    \n",
    "else: \n",
    "    for i in range(1,value+1):\n",
    "        factorial=factorial*i\n",
    "    print (\"the factorial of\",value,\"is\",factorial)\n",
    "    \n",
    "    \n",
    "  "
   ]
  },
  {
   "cell_type": "markdown",
   "metadata": {},
   "source": [
    "12. Write a python program to find whether a number is prime or composite."
   ]
  },
  {
   "cell_type": "code",
   "execution_count": 32,
   "metadata": {},
   "outputs": [
    {
     "name": "stdout",
     "output_type": "stream",
     "text": [
      "Enter number : 3\n",
      "3  => Prime Number\n"
     ]
    }
   ],
   "source": [
    "number = int(input(\"Enter number : \"))\n",
    "if number == 0 or number == 1:\n",
    "    print(number,\" => Neither prime nor composite\")\n",
    "else:\n",
    "    for i in range(2,number):\n",
    "        if(number % i == 0):\n",
    "            print(number,\" => Composite Number\")\n",
    "            break\n",
    "    else:\n",
    "        print(number,\" => Prime Number\")"
   ]
  },
  {
   "cell_type": "code",
   "execution_count": 33,
   "metadata": {},
   "outputs": [],
   "source": [
    "# 13. Write a python program to check whether a given string is palindrome or not."
   ]
  },
  {
   "cell_type": "code",
   "execution_count": 47,
   "metadata": {},
   "outputs": [
    {
     "name": "stdout",
     "output_type": "stream",
     "text": [
      "Enter string : SAS\n",
      "The string is palindrome\n"
     ]
    }
   ],
   "source": [
    "my_str=str(input(\"Enter string : \"))\n",
    "\n",
    "my_str=my_str.lower()\n",
    "\n",
    "rev_str=reversed(my_str)\n",
    "\n",
    "if list(my_str) == list(rev_str):\n",
    "    print(\"The string is palindrome\")\n",
    "else:\n",
    "    print(\"The string is not palindrome\")\n",
    "\n"
   ]
  },
  {
   "cell_type": "code",
   "execution_count": null,
   "metadata": {},
   "outputs": [],
   "source": [
    "# 14:Write a Python program to get the third side of right-angled triangle from two given sides."
   ]
  },
  {
   "cell_type": "code",
   "execution_count": 52,
   "metadata": {},
   "outputs": [
    {
     "name": "stdout",
     "output_type": "stream",
     "text": [
      "Enter base: 4\n",
      "Enter height: 3\n",
      "Third Side = 5.0\n"
     ]
    }
   ],
   "source": [
    "import math\n",
    "\n",
    "a = float(input(\"Enter base: \"))\n",
    "b = float(input(\"Enter height: \"))\n",
    "\n",
    "c = math.sqrt(a ** 2 + b ** 2)\n",
    "\n",
    "print(\"Third Side =\", c)\n"
   ]
  },
  {
   "cell_type": "code",
   "execution_count": 53,
   "metadata": {},
   "outputs": [],
   "source": [
    "# 15. Write a python program to print the frequency of each of the characters present in a given string."
   ]
  },
  {
   "cell_type": "code",
   "execution_count": 54,
   "metadata": {},
   "outputs": [
    {
     "name": "stdout",
     "output_type": "stream",
     "text": [
      "Enter any String: jsofjskjijswi\n",
      "Count of all characters in jsofjskjijswi is :\n",
      " {'j': 4, 's': 3, 'o': 1, 'f': 1, 'k': 1, 'i': 2, 'w': 1}\n"
     ]
    }
   ],
   "source": [
    "string = input(\"Enter any String: \")\n",
    "frequency = {}\n",
    "\n",
    "for i in string:\n",
    "    if i in frequency:\n",
    "        frequency[i] += 1\n",
    "    else:\n",
    "        frequency[i] = 1\n",
    "\n",
    "print (\"Count of all characters in\" ,string ,\"is :\\n \"+ str(frequency))"
   ]
  },
  {
   "cell_type": "code",
   "execution_count": null,
   "metadata": {},
   "outputs": [],
   "source": []
  }
 ],
 "metadata": {
  "kernelspec": {
   "display_name": "Python 3",
   "language": "python",
   "name": "python3"
  }
 },
 "nbformat": 4,
 "nbformat_minor": 4
}
